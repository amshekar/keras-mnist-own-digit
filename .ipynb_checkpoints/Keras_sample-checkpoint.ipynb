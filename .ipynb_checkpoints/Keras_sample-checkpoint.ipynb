{
 "cells": [
  {
   "cell_type": "markdown",
   "metadata": {},
   "source": [
    "# Keras - Mnist - image recognition"
   ]
  },
  {
   "cell_type": "markdown",
   "metadata": {},
   "source": [
    "## imports"
   ]
  },
  {
   "cell_type": "code",
   "execution_count": 41,
   "metadata": {
    "collapsed": false
   },
   "outputs": [],
   "source": [
    "from __future__ import print_function\n",
    "import numpy as np\n",
    "import math\n",
    "import keras\n",
    "import cv2\n",
    "from keras.datasets import mnist\n",
    "from keras.models import Sequential\n",
    "from keras.layers import Dense,Dropout\n",
    "from keras.optimizers import RMSprop"
   ]
  },
  {
   "cell_type": "code",
   "execution_count": 42,
   "metadata": {
    "collapsed": true
   },
   "outputs": [],
   "source": [
    "batch_size=128\n",
    "num_classes=10\n",
    "epochs=20"
   ]
  },
  {
   "cell_type": "code",
   "execution_count": 43,
   "metadata": {
    "collapsed": true
   },
   "outputs": [],
   "source": [
    "# the data ,shuffled and split between train and test sets\n",
    "(x_train,y_train),(x_test,y_test)=mnist.load_data()"
   ]
  },
  {
   "cell_type": "code",
   "execution_count": 44,
   "metadata": {
    "collapsed": true
   },
   "outputs": [],
   "source": [
    "x_train=x_train.reshape(60000,784)\n",
    "x_test=x_test.reshape(10000,784)\n",
    "\n",
    "x_train=x_train.astype('float32')\n",
    "x_test=x_test.astype('float32')\n",
    "\n",
    "x_train /=255\n",
    "x_test /=255"
   ]
  },
  {
   "cell_type": "code",
   "execution_count": 45,
   "metadata": {
    "collapsed": false
   },
   "outputs": [
    {
     "name": "stdout",
     "output_type": "stream",
     "text": [
      "60000 train samples\n",
      "10000 test samples\n"
     ]
    }
   ],
   "source": [
    "print(x_train.shape[0],'train samples')\n",
    "print(x_test.shape[0],'test samples')"
   ]
  },
  {
   "cell_type": "code",
   "execution_count": 46,
   "metadata": {
    "collapsed": false
   },
   "outputs": [],
   "source": [
    "import matplotlib.pyplot as plt\n",
    "%matplotlib inline"
   ]
  },
  {
   "cell_type": "code",
   "execution_count": 47,
   "metadata": {
    "collapsed": true
   },
   "outputs": [],
   "source": [
    "#convert class vectors to binary class matrices\n",
    "y_train=keras.utils.to_categorical(y_train,num_classes)\n",
    "y_test=keras.utils.to_categorical(y_test,num_classes)"
   ]
  },
  {
   "cell_type": "code",
   "execution_count": 48,
   "metadata": {
    "collapsed": false
   },
   "outputs": [
    {
     "name": "stdout",
     "output_type": "stream",
     "text": [
      "_________________________________________________________________\n",
      "Layer (type)                 Output Shape              Param #   \n",
      "=================================================================\n",
      "dense_4 (Dense)              (None, 512)               401920    \n",
      "_________________________________________________________________\n",
      "dropout_3 (Dropout)          (None, 512)               0         \n",
      "_________________________________________________________________\n",
      "dense_5 (Dense)              (None, 512)               262656    \n",
      "_________________________________________________________________\n",
      "dropout_4 (Dropout)          (None, 512)               0         \n",
      "_________________________________________________________________\n",
      "dense_6 (Dense)              (None, 10)                5130      \n",
      "=================================================================\n",
      "Total params: 669,706\n",
      "Trainable params: 669,706\n",
      "Non-trainable params: 0\n",
      "_________________________________________________________________\n"
     ]
    }
   ],
   "source": [
    "model=Sequential()\n",
    "model.add(Dense(512,activation='relu',input_shape=(784,)))\n",
    "model.add(Dropout(0.2))\n",
    "model.add(Dense(512,activation='relu'))\n",
    "model.add(Dropout(0.2))\n",
    "model.add(Dense(num_classes,activation='softmax'))\n",
    "model.summary()"
   ]
  },
  {
   "cell_type": "code",
   "execution_count": 49,
   "metadata": {
    "collapsed": true
   },
   "outputs": [],
   "source": [
    "model.compile(loss='categorical_crossentropy',\n",
    "              optimizer=RMSprop(),\n",
    "              metrics=['accuracy'])"
   ]
  },
  {
   "cell_type": "code",
   "execution_count": 50,
   "metadata": {
    "collapsed": false
   },
   "outputs": [
    {
     "name": "stdout",
     "output_type": "stream",
     "text": [
      "Train on 60000 samples, validate on 10000 samples\n",
      "Epoch 1/20\n",
      "60000/60000 [==============================] - 6s - loss: 0.2449 - acc: 0.9254 - val_loss: 0.1060 - val_acc: 0.9665\n",
      "Epoch 2/20\n",
      "60000/60000 [==============================] - 6s - loss: 0.1016 - acc: 0.9688 - val_loss: 0.0832 - val_acc: 0.9745\n",
      "Epoch 3/20\n",
      "60000/60000 [==============================] - 5s - loss: 0.0741 - acc: 0.9774 - val_loss: 0.0755 - val_acc: 0.9770\n",
      "Epoch 4/20\n",
      "60000/60000 [==============================] - 6s - loss: 0.0601 - acc: 0.9820 - val_loss: 0.0760 - val_acc: 0.9788\n",
      "Epoch 5/20\n",
      "60000/60000 [==============================] - 6s - loss: 0.0510 - acc: 0.9852 - val_loss: 0.0734 - val_acc: 0.9814\n",
      "Epoch 6/20\n",
      "60000/60000 [==============================] - 5s - loss: 0.0446 - acc: 0.9865 - val_loss: 0.0822 - val_acc: 0.9816\n",
      "Epoch 7/20\n",
      "60000/60000 [==============================] - 5s - loss: 0.0391 - acc: 0.9887 - val_loss: 0.0870 - val_acc: 0.9822\n",
      "Epoch 8/20\n",
      "60000/60000 [==============================] - 5s - loss: 0.0342 - acc: 0.9893 - val_loss: 0.0811 - val_acc: 0.9832\n",
      "Epoch 9/20\n",
      "60000/60000 [==============================] - 6s - loss: 0.0308 - acc: 0.9909 - val_loss: 0.0867 - val_acc: 0.9835\n",
      "Epoch 10/20\n",
      "60000/60000 [==============================] - 6s - loss: 0.0277 - acc: 0.9916 - val_loss: 0.0724 - val_acc: 0.9838\n",
      "Epoch 11/20\n",
      "60000/60000 [==============================] - 6s - loss: 0.0266 - acc: 0.9920 - val_loss: 0.1033 - val_acc: 0.9789\n",
      "Epoch 12/20\n",
      "60000/60000 [==============================] - 6s - loss: 0.0266 - acc: 0.9928 - val_loss: 0.1030 - val_acc: 0.9828\n",
      "Epoch 13/20\n",
      "60000/60000 [==============================] - 6s - loss: 0.0229 - acc: 0.9933 - val_loss: 0.0983 - val_acc: 0.9827\n",
      "Epoch 14/20\n",
      "60000/60000 [==============================] - 6s - loss: 0.0232 - acc: 0.9931 - val_loss: 0.1121 - val_acc: 0.9801\n",
      "Epoch 15/20\n",
      "60000/60000 [==============================] - 6s - loss: 0.0214 - acc: 0.9944 - val_loss: 0.0921 - val_acc: 0.9833\n",
      "Epoch 16/20\n",
      "60000/60000 [==============================] - 6s - loss: 0.0197 - acc: 0.9947 - val_loss: 0.1048 - val_acc: 0.9833\n",
      "Epoch 17/20\n",
      "60000/60000 [==============================] - 6s - loss: 0.0197 - acc: 0.9948 - val_loss: 0.1010 - val_acc: 0.9835\n",
      "Epoch 18/20\n",
      "60000/60000 [==============================] - 6s - loss: 0.0189 - acc: 0.9952 - val_loss: 0.1112 - val_acc: 0.9817\n",
      "Epoch 19/20\n",
      "60000/60000 [==============================] - 6s - loss: 0.0194 - acc: 0.9951 - val_loss: 0.1217 - val_acc: 0.9813\n",
      "Epoch 20/20\n",
      "60000/60000 [==============================] - 6s - loss: 0.0191 - acc: 0.9949 - val_loss: 0.1174 - val_acc: 0.9810\n"
     ]
    }
   ],
   "source": [
    "history = model.fit(x_train, y_train,\n",
    "                    batch_size=batch_size,\n",
    "                    epochs=epochs,\n",
    "                    verbose=1,\n",
    "                    validation_data=(x_test, y_test))"
   ]
  },
  {
   "cell_type": "code",
   "execution_count": 51,
   "metadata": {
    "collapsed": true
   },
   "outputs": [],
   "source": [
    "score = model.evaluate(x_test, y_test, verbose=0)"
   ]
  },
  {
   "cell_type": "code",
   "execution_count": 52,
   "metadata": {
    "collapsed": false
   },
   "outputs": [
    {
     "name": "stdout",
     "output_type": "stream",
     "text": [
      "Test loss: 0.117416754671\n",
      "Test accuracy: 0.981\n"
     ]
    }
   ],
   "source": [
    "print('Test loss:', score[0])\n",
    "print('Test accuracy:', score[1])"
   ]
  },
  {
   "cell_type": "code",
   "execution_count": 53,
   "metadata": {
    "collapsed": false
   },
   "outputs": [
    {
     "data": {
      "text/plain": [
       "7"
      ]
     },
     "execution_count": 53,
     "metadata": {},
     "output_type": "execute_result"
    }
   ],
   "source": [
    "np.argmax(model.predict(x_test[0].reshape(1,784)))"
   ]
  },
  {
   "cell_type": "code",
   "execution_count": 54,
   "metadata": {
    "collapsed": false
   },
   "outputs": [],
   "source": [
    "def custom_recog(img):\n",
    "    gray = cv2.imread(img, cv2.IMREAD_GRAYSCALE)\n",
    "    gray = cv2.resize(255-gray, (28, 28))\n",
    "    (thresh, gray) = cv2.threshold(gray, 128, 255, cv2.THRESH_BINARY | cv2.THRESH_OTSU)\n",
    "    cv2.imwrite(\"not\"+img, gray)\n",
    "    gray = gray/255\n",
    "    print(np.argmax(model.predict(gray.reshape(1,784))))"
   ]
  },
  {
   "cell_type": "code",
   "execution_count": 55,
   "metadata": {
    "collapsed": false
   },
   "outputs": [
    {
     "name": "stdout",
     "output_type": "stream",
     "text": [
      "3\n",
      "0\n",
      "2\n",
      "6\n"
     ]
    }
   ],
   "source": [
    "custom_recog('own_3.png')\n",
    "custom_recog('own_0.png')\n",
    "custom_recog('own_4.png')\n",
    "custom_recog('own_8.png')"
   ]
  },
  {
   "cell_type": "code",
   "execution_count": 56,
   "metadata": {
    "collapsed": true
   },
   "outputs": [],
   "source": [
    "def custom_recog_improved(img):\n",
    "    gray = cv2.imread(img, cv2.IMREAD_GRAYSCALE)\n",
    "    gray = cv2.resize(255-gray, (28, 28))\n",
    "    (thresh, gray) = cv2.threshold(gray, 128, 255, cv2.THRESH_BINARY | cv2.THRESH_OTSU)\n",
    "    cv2.imwrite(\"not\"+img, gray)\n",
    "    while np.sum(gray[0]) == 0:\n",
    "        gray = gray[1:]\n",
    "\n",
    "    while np.sum(gray[:,0]) == 0:\n",
    "        gray = np.delete(gray,0,1)\n",
    "\n",
    "    while np.sum(gray[-1]) == 0:\n",
    "        gray = gray[:-1]\n",
    "\n",
    "    while np.sum(gray[:,-1]) == 0:\n",
    "        gray = np.delete(gray,-1,1)\n",
    "\n",
    "    rows,cols = gray.shape\n",
    "\n",
    "    if rows > cols:\n",
    "        factor = 20.0/rows\n",
    "        rows = 20\n",
    "        cols = int(round(cols*factor))\n",
    "        # first cols than rows\n",
    "        gray = cv2.resize(gray, (cols,rows))\n",
    "    else:\n",
    "        factor = 20.0/cols\n",
    "        cols = 20\n",
    "        rows = int(round(rows*factor))\n",
    "        # first cols than rows\n",
    "        gray = cv2.resize(gray, (cols, rows))\n",
    "\n",
    "    colsPadding = (int(math.ceil((28-cols)/2.0)),int(math.floor((28-cols)/2.0)))\n",
    "    rowsPadding = (int(math.ceil((28-rows)/2.0)),int(math.floor((28-rows)/2.0)))\n",
    "    gray = np.lib.pad(gray,(rowsPadding,colsPadding),'constant')\n",
    "\n",
    "    shiftx,shifty = getBestShift(gray)\n",
    "    shifted = shift(gray,shiftx,shifty)\n",
    "    gray = shifted\n",
    "    gray = gray/255\n",
    "    print(np.argmax(model.predict(gray.reshape(1,784))))"
   ]
  },
  {
   "cell_type": "code",
   "execution_count": 61,
   "metadata": {
    "collapsed": true
   },
   "outputs": [],
   "source": [
    "from scipy import ndimage"
   ]
  },
  {
   "cell_type": "code",
   "execution_count": 58,
   "metadata": {
    "collapsed": true
   },
   "outputs": [],
   "source": [
    "def getBestShift(img):\n",
    "    cy,cx = ndimage.measurements.center_of_mass(img)\n",
    "\n",
    "    rows,cols = img.shape\n",
    "    shiftx = np.round(cols/2.0-cx).astype(int)\n",
    "    shifty = np.round(rows/2.0-cy).astype(int)\n",
    "\n",
    "    return shiftx,shifty"
   ]
  },
  {
   "cell_type": "code",
   "execution_count": 59,
   "metadata": {
    "collapsed": true
   },
   "outputs": [],
   "source": [
    "def shift(img,sx,sy):\n",
    "    rows,cols = img.shape\n",
    "    M = np.float32([[1,0,sx],[0,1,sy]])\n",
    "    shifted = cv2.warpAffine(img,M,(cols,rows))\n",
    "    return shifted"
   ]
  },
  {
   "cell_type": "code",
   "execution_count": 62,
   "metadata": {
    "collapsed": false
   },
   "outputs": [
    {
     "name": "stdout",
     "output_type": "stream",
     "text": [
      "3\n",
      "0\n",
      "4\n",
      "8\n"
     ]
    }
   ],
   "source": [
    "custom_recog_improved('own_3.png')\n",
    "custom_recog_improved('own_0.png')\n",
    "custom_recog_improved('own_4.png')\n",
    "custom_recog_improved('own_8.png')"
   ]
  },
  {
   "cell_type": "code",
   "execution_count": 63,
   "metadata": {
    "collapsed": false
   },
   "outputs": [
    {
     "name": "stdout",
     "output_type": "stream",
     "text": [
      "5\n",
      "5\n"
     ]
    }
   ],
   "source": [
    "custom_recog_improved('5.png')\n",
    "custom_recog('5.png')"
   ]
  },
  {
   "cell_type": "code",
   "execution_count": 66,
   "metadata": {
    "collapsed": false
   },
   "outputs": [
    {
     "name": "stdout",
     "output_type": "stream",
     "text": [
      "2\n"
     ]
    }
   ],
   "source": [
    "custom_recog_improved('two.png')"
   ]
  },
  {
   "cell_type": "code",
   "execution_count": null,
   "metadata": {
    "collapsed": true
   },
   "outputs": [],
   "source": []
  }
 ],
 "metadata": {
  "anaconda-cloud": {},
  "kernelspec": {
   "display_name": "Python [Root]",
   "language": "python",
   "name": "Python [Root]"
  },
  "language_info": {
   "codemirror_mode": {
    "name": "ipython",
    "version": 3
   },
   "file_extension": ".py",
   "mimetype": "text/x-python",
   "name": "python",
   "nbconvert_exporter": "python",
   "pygments_lexer": "ipython3",
   "version": "3.5.2"
  }
 },
 "nbformat": 4,
 "nbformat_minor": 2
}
